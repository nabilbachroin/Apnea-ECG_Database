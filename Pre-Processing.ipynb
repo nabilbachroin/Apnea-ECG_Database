{
 "cells": [
  {
   "cell_type": "code",
   "execution_count": 5,
   "id": "bdd09868-1c30-41fb-b4b7-878ade1c7e1d",
   "metadata": {
    "tags": []
   },
   "outputs": [],
   "source": [
    "import wfdb\n",
    "import os\n",
    "from tqdm.notebook import tqdm\n",
    "import numpy as np\n",
    "import pandas as pd\n",
    "import matplotlib.pyplot as plt"
   ]
  },
  {
   "cell_type": "code",
   "execution_count": 6,
   "id": "12d3f425-2918-4bb0-8504-2c6e565b36a4",
   "metadata": {
    "tags": []
   },
   "outputs": [],
   "source": [
    "base_dir = '/home/cries/Dataset/apnea-ecg-database-1.0.0/'"
   ]
  },
  {
   "cell_type": "code",
   "execution_count": 7,
   "id": "9b6d1a86-19d1-478c-b642-89f859eec475",
   "metadata": {
    "tags": []
   },
   "outputs": [
    {
     "data": {
      "application/vnd.jupyter.widget-view+json": {
       "model_id": "29df64e1a4444c6691ffc8ef5999a30b",
       "version_major": 2,
       "version_minor": 0
      },
      "text/plain": [
       "  0%|          | 0/35 [00:00<?, ?it/s]"
      ]
     },
     "metadata": {},
     "output_type": "display_data"
    },
    {
     "ename": "ValueError",
     "evalue": "sampto must be shorter than the signal length",
     "output_type": "error",
     "traceback": [
      "\u001b[0;31m---------------------------------------------------------------------------\u001b[0m",
      "\u001b[0;31mValueError\u001b[0m                                Traceback (most recent call last)",
      "Cell \u001b[0;32mIn[7], line 9\u001b[0m\n\u001b[1;32m      1\u001b[0m recordings \u001b[38;5;241m=\u001b[39m [\n\u001b[1;32m      2\u001b[0m     \u001b[38;5;124m\"\u001b[39m\u001b[38;5;124ma01\u001b[39m\u001b[38;5;124m\"\u001b[39m, \u001b[38;5;124m\"\u001b[39m\u001b[38;5;124ma02\u001b[39m\u001b[38;5;124m\"\u001b[39m, \u001b[38;5;124m\"\u001b[39m\u001b[38;5;124ma03\u001b[39m\u001b[38;5;124m\"\u001b[39m, \u001b[38;5;124m\"\u001b[39m\u001b[38;5;124ma04\u001b[39m\u001b[38;5;124m\"\u001b[39m, \u001b[38;5;124m\"\u001b[39m\u001b[38;5;124ma05\u001b[39m\u001b[38;5;124m\"\u001b[39m, \u001b[38;5;124m\"\u001b[39m\u001b[38;5;124ma06\u001b[39m\u001b[38;5;124m\"\u001b[39m, \u001b[38;5;124m\"\u001b[39m\u001b[38;5;124ma07\u001b[39m\u001b[38;5;124m\"\u001b[39m, \u001b[38;5;124m\"\u001b[39m\u001b[38;5;124ma08\u001b[39m\u001b[38;5;124m\"\u001b[39m, \u001b[38;5;124m\"\u001b[39m\u001b[38;5;124ma09\u001b[39m\u001b[38;5;124m\"\u001b[39m, \u001b[38;5;124m\"\u001b[39m\u001b[38;5;124ma10\u001b[39m\u001b[38;5;124m\"\u001b[39m,\n\u001b[1;32m      3\u001b[0m     \u001b[38;5;124m\"\u001b[39m\u001b[38;5;124ma11\u001b[39m\u001b[38;5;124m\"\u001b[39m, \u001b[38;5;124m\"\u001b[39m\u001b[38;5;124ma12\u001b[39m\u001b[38;5;124m\"\u001b[39m, \u001b[38;5;124m\"\u001b[39m\u001b[38;5;124ma13\u001b[39m\u001b[38;5;124m\"\u001b[39m, \u001b[38;5;124m\"\u001b[39m\u001b[38;5;124ma14\u001b[39m\u001b[38;5;124m\"\u001b[39m, \u001b[38;5;124m\"\u001b[39m\u001b[38;5;124ma15\u001b[39m\u001b[38;5;124m\"\u001b[39m, \u001b[38;5;124m\"\u001b[39m\u001b[38;5;124ma16\u001b[39m\u001b[38;5;124m\"\u001b[39m, \u001b[38;5;124m\"\u001b[39m\u001b[38;5;124ma17\u001b[39m\u001b[38;5;124m\"\u001b[39m, \u001b[38;5;124m\"\u001b[39m\u001b[38;5;124ma18\u001b[39m\u001b[38;5;124m\"\u001b[39m, \u001b[38;5;124m\"\u001b[39m\u001b[38;5;124ma19\u001b[39m\u001b[38;5;124m\"\u001b[39m, \u001b[38;5;124m\"\u001b[39m\u001b[38;5;124ma20\u001b[39m\u001b[38;5;124m\"\u001b[39m,\n\u001b[1;32m      4\u001b[0m     \u001b[38;5;124m\"\u001b[39m\u001b[38;5;124mb01\u001b[39m\u001b[38;5;124m\"\u001b[39m, \u001b[38;5;124m\"\u001b[39m\u001b[38;5;124mb02\u001b[39m\u001b[38;5;124m\"\u001b[39m, \u001b[38;5;124m\"\u001b[39m\u001b[38;5;124mb03\u001b[39m\u001b[38;5;124m\"\u001b[39m, \u001b[38;5;124m\"\u001b[39m\u001b[38;5;124mb04\u001b[39m\u001b[38;5;124m\"\u001b[39m, \u001b[38;5;124m\"\u001b[39m\u001b[38;5;124mb05\u001b[39m\u001b[38;5;124m\"\u001b[39m,\n\u001b[1;32m      5\u001b[0m     \u001b[38;5;124m\"\u001b[39m\u001b[38;5;124mc01\u001b[39m\u001b[38;5;124m\"\u001b[39m, \u001b[38;5;124m\"\u001b[39m\u001b[38;5;124mc02\u001b[39m\u001b[38;5;124m\"\u001b[39m, \u001b[38;5;124m\"\u001b[39m\u001b[38;5;124mc03\u001b[39m\u001b[38;5;124m\"\u001b[39m, \u001b[38;5;124m\"\u001b[39m\u001b[38;5;124mc04\u001b[39m\u001b[38;5;124m\"\u001b[39m, \u001b[38;5;124m\"\u001b[39m\u001b[38;5;124mc05\u001b[39m\u001b[38;5;124m\"\u001b[39m, \u001b[38;5;124m\"\u001b[39m\u001b[38;5;124mc06\u001b[39m\u001b[38;5;124m\"\u001b[39m, \u001b[38;5;124m\"\u001b[39m\u001b[38;5;124mc07\u001b[39m\u001b[38;5;124m\"\u001b[39m, \u001b[38;5;124m\"\u001b[39m\u001b[38;5;124mc08\u001b[39m\u001b[38;5;124m\"\u001b[39m, \u001b[38;5;124m\"\u001b[39m\u001b[38;5;124mc09\u001b[39m\u001b[38;5;124m\"\u001b[39m, \u001b[38;5;124m\"\u001b[39m\u001b[38;5;124mc10\u001b[39m\u001b[38;5;124m\"\u001b[39m\n\u001b[1;32m      6\u001b[0m ]\n\u001b[1;32m      8\u001b[0m \u001b[38;5;28;01mfor\u001b[39;00m recording \u001b[38;5;129;01min\u001b[39;00m tqdm(recordings):\n\u001b[0;32m----> 9\u001b[0m     raw \u001b[38;5;241m=\u001b[39m \u001b[43mwfdb\u001b[49m\u001b[38;5;241;43m.\u001b[39;49m\u001b[43mrdrecord\u001b[49m\u001b[43m(\u001b[49m\u001b[43mos\u001b[49m\u001b[38;5;241;43m.\u001b[39;49m\u001b[43mpath\u001b[49m\u001b[38;5;241;43m.\u001b[39;49m\u001b[43mjoin\u001b[49m\u001b[43m(\u001b[49m\u001b[43mbase_dir\u001b[49m\u001b[43m,\u001b[49m\u001b[43m \u001b[49m\u001b[43mrecording\u001b[49m\u001b[43m)\u001b[49m\u001b[43m,\u001b[49m\u001b[43m \u001b[49m\u001b[43mchannels\u001b[49m\u001b[38;5;241;43m=\u001b[39;49m\u001b[43m[\u001b[49m\u001b[38;5;241;43m0\u001b[39;49m\u001b[43m]\u001b[49m\u001b[43m,\u001b[49m\u001b[43m \u001b[49m\u001b[43msampto\u001b[49m\u001b[38;5;241;43m=\u001b[39;49m\u001b[38;5;241;43m3000000\u001b[39;49m\u001b[43m)\u001b[49m\u001b[38;5;241m.\u001b[39mp_signal[:, \u001b[38;5;241m0\u001b[39m]\n\u001b[1;32m     10\u001b[0m     labels \u001b[38;5;241m=\u001b[39m wfdb\u001b[38;5;241m.\u001b[39mrdann(os\u001b[38;5;241m.\u001b[39mpath\u001b[38;5;241m.\u001b[39mjoin(base_dir, recording), extension\u001b[38;5;241m=\u001b[39m\u001b[38;5;124m\"\u001b[39m\u001b[38;5;124mapn\u001b[39m\u001b[38;5;124m\"\u001b[39m)\u001b[38;5;241m.\u001b[39msymbol\n\u001b[1;32m     12\u001b[0m     n \u001b[38;5;241m=\u001b[39m \u001b[38;5;241m6000\u001b[39m\n",
      "File \u001b[0;32m~/.conda/envs/jeremie_env/lib/python3.9/site-packages/wfdb/io/record.py:2092\u001b[0m, in \u001b[0;36mrdrecord\u001b[0;34m(record_name, sampfrom, sampto, channels, physical, pn_dir, m2s, smooth_frames, ignore_skew, return_res, force_channels, channel_names, warn_empty)\u001b[0m\n\u001b[1;32m   2089\u001b[0m     channels \u001b[38;5;241m=\u001b[39m \u001b[38;5;28mlist\u001b[39m(\u001b[38;5;28mrange\u001b[39m(record\u001b[38;5;241m.\u001b[39mn_sig))\n\u001b[1;32m   2091\u001b[0m \u001b[38;5;66;03m# Ensure that input fields are valid for the record\u001b[39;00m\n\u001b[0;32m-> 2092\u001b[0m \u001b[43mrecord\u001b[49m\u001b[38;5;241;43m.\u001b[39;49m\u001b[43mcheck_read_inputs\u001b[49m\u001b[43m(\u001b[49m\n\u001b[1;32m   2093\u001b[0m \u001b[43m    \u001b[49m\u001b[43msampfrom\u001b[49m\u001b[43m,\u001b[49m\u001b[43m \u001b[49m\u001b[43msampto\u001b[49m\u001b[43m,\u001b[49m\u001b[43m \u001b[49m\u001b[43mchannels\u001b[49m\u001b[43m,\u001b[49m\u001b[43m \u001b[49m\u001b[43mphysical\u001b[49m\u001b[43m,\u001b[49m\u001b[43m \u001b[49m\u001b[43msmooth_frames\u001b[49m\u001b[43m,\u001b[49m\u001b[43m \u001b[49m\u001b[43mreturn_res\u001b[49m\n\u001b[1;32m   2094\u001b[0m \u001b[43m\u001b[49m\u001b[43m)\u001b[49m\n\u001b[1;32m   2096\u001b[0m \u001b[38;5;66;03m# If the signal doesn't have the specified channels, there will be\u001b[39;00m\n\u001b[1;32m   2097\u001b[0m \u001b[38;5;66;03m# no signal. Recall that `rdsamp` is not called on segments of multi\u001b[39;00m\n\u001b[1;32m   2098\u001b[0m \u001b[38;5;66;03m# segment records if the channels are not present, so this won't\u001b[39;00m\n\u001b[1;32m   2099\u001b[0m \u001b[38;5;66;03m# break anything.\u001b[39;00m\n\u001b[1;32m   2100\u001b[0m \u001b[38;5;28;01mif\u001b[39;00m \u001b[38;5;129;01mnot\u001b[39;00m \u001b[38;5;28mlen\u001b[39m(channels):\n",
      "File \u001b[0;32m~/.conda/envs/jeremie_env/lib/python3.9/site-packages/wfdb/io/record.py:626\u001b[0m, in \u001b[0;36mBaseRecord.check_read_inputs\u001b[0;34m(self, sampfrom, sampto, channels, physical, smooth_frames, return_res)\u001b[0m\n\u001b[1;32m    624\u001b[0m     \u001b[38;5;28;01mraise\u001b[39;00m \u001b[38;5;167;01mValueError\u001b[39;00m(\u001b[38;5;124m\"\u001b[39m\u001b[38;5;124msampto must be a non-negative integer\u001b[39m\u001b[38;5;124m\"\u001b[39m)\n\u001b[1;32m    625\u001b[0m \u001b[38;5;28;01mif\u001b[39;00m sampto \u001b[38;5;241m>\u001b[39m \u001b[38;5;28mself\u001b[39m\u001b[38;5;241m.\u001b[39msig_len:\n\u001b[0;32m--> 626\u001b[0m     \u001b[38;5;28;01mraise\u001b[39;00m \u001b[38;5;167;01mValueError\u001b[39;00m(\u001b[38;5;124m\"\u001b[39m\u001b[38;5;124msampto must be shorter than the signal length\u001b[39m\u001b[38;5;124m\"\u001b[39m)\n\u001b[1;32m    627\u001b[0m \u001b[38;5;28;01mif\u001b[39;00m sampto \u001b[38;5;241m<\u001b[39m\u001b[38;5;241m=\u001b[39m sampfrom:\n\u001b[1;32m    628\u001b[0m     \u001b[38;5;28;01mraise\u001b[39;00m \u001b[38;5;167;01mValueError\u001b[39;00m(\u001b[38;5;124m\"\u001b[39m\u001b[38;5;124msampto must be greater than sampfrom\u001b[39m\u001b[38;5;124m\"\u001b[39m)\n",
      "\u001b[0;31mValueError\u001b[0m: sampto must be shorter than the signal length"
     ]
    }
   ],
   "source": [
    "recordings = [\n",
    "    \"a01\", \"a02\", \"a03\", \"a04\", \"a05\", \"a06\", \"a07\", \"a08\", \"a09\", \"a10\",\n",
    "    \"a11\", \"a12\", \"a13\", \"a14\", \"a15\", \"a16\", \"a17\", \"a18\", \"a19\", \"a20\",\n",
    "    \"b01\", \"b02\", \"b03\", \"b04\", \"b05\",\n",
    "    \"c01\", \"c02\", \"c03\", \"c04\", \"c05\", \"c06\", \"c07\", \"c08\", \"c09\", \"c10\"\n",
    "]\n",
    "\n",
    "for recording in tqdm(recordings):\n",
    "    raw = wfdb.rdrecord(os.path.join(base_dir, recording), channels=[0]).p_signal[:, 0]\n",
    "    labels = wfdb.rdann(os.path.join(base_dir, recording), extension=\"apn\").symbol\n",
    "    \n",
    "    n = 6000\n",
    "    result = [raw[idx:idx+n] for idx in range(0, len(raw), n)]\n",
    "    res = dict(zip(range(len(labels)), result))\n",
    "\n",
    "    apnea_index = [i for i, x in enumerate(labels) if x == \"A\"]\n",
    "    normal_index = [i for i, x in enumerate(labels) if x == \"N\"]\n",
    "\n",
    "    array_apnea = np.array([])\n",
    "    array_normal = np.array([])\n",
    "\n",
    "    for index in apnea_index:\n",
    "        array_apnea = np.append(array_apnea, res.get(index))\n",
    "\n",
    "    for index in normal_index:\n",
    "        array_normal = np.append(array_normal, res.get(index))\n",
    "\n",
    "    pd.DataFrame(array_apnea, columns=['signal']).to_csv(f'./TrainData/Apnea/{recording}.csv', index=False)\n",
    "    pd.DataFrame(array_normal, columns=['signal']).to_csv(f'./TrainData/Normal/{recording}.csv', index=False)\n",
    "\n",
    "print(\"DONE\")"
   ]
  },
  {
   "cell_type": "code",
   "execution_count": 4,
   "id": "df4efe4e-c7ec-4465-9f73-80e35780677d",
   "metadata": {},
   "outputs": [
    {
     "data": {
      "application/vnd.jupyter.widget-view+json": {
       "model_id": "9c010d63ee7e464daf0577090ea46117",
       "version_major": 2,
       "version_minor": 0
      },
      "text/plain": [
       "  0%|          | 0/35 [00:00<?, ?it/s]"
      ]
     },
     "metadata": {},
     "output_type": "display_data"
    },
    {
     "name": "stdout",
     "output_type": "stream",
     "text": [
      "DONE\n"
     ]
    }
   ],
   "source": [
    "recordings = [\n",
    "    \"x01\", \"x02\", \"x03\", \"x04\", \"x05\", \"x06\", \"x07\", \"x08\", \"x09\", \"x10\",\n",
    "    \"x11\", \"x12\", \"x13\", \"x14\", \"x15\", \"x16\", \"x17\", \"x18\", \"x19\", \"x20\",\n",
    "    \"x21\", \"x22\", \"x23\", \"x24\", \"x25\", \"x26\", \"x27\", \"x28\", \"x29\", \"x30\",\n",
    "    \"x31\", \"x32\", \"x33\", \"x34\", \"x35\"\n",
    "]\n",
    "\n",
    "filename = os.path.join(base_dir, \"test-dataset-annos.txt\")\n",
    "answers = {}\n",
    "with open(filename, \"r\") as f:\n",
    "    for answer in f.read().split(\"\\n\\n\"):\n",
    "        answers[answer[:3]] = list(\"\".join(answer.split()[2::2]))\n",
    "\n",
    "for recording in tqdm(recordings):\n",
    "    raw = wfdb.rdrecord(os.path.join(base_dir, recording), channels=[0]).p_signal[:, 0]\n",
    "    labels = answers.get(f'{recording}')\n",
    "    \n",
    "    n = 6000\n",
    "    result = [raw[idx:idx+n] for idx in range(0, len(raw), n)]\n",
    "    res = dict(zip(range(len(labels)), result))\n",
    "\n",
    "    apnea_index = [i for i, x in enumerate(labels) if x == \"A\"]\n",
    "    normal_index = [i for i, x in enumerate(labels) if x == \"N\"]\n",
    "\n",
    "    array_apnea = np.array([])\n",
    "    array_normal = np.array([])\n",
    "\n",
    "    for index in apnea_index:\n",
    "        array_apnea = np.append(array_apnea, res.get(index))\n",
    "\n",
    "    for index in normal_index:\n",
    "        array_normal = np.append(array_normal, res.get(index))\n",
    "\n",
    "    pd.DataFrame(array_apnea, columns=['signal']).to_csv(f'./TestData/Apnea/{recording}.csv', index=False)\n",
    "    pd.DataFrame(array_normal, columns=['signal']).to_csv(f'./TestData/Normal/{recording}.csv', index=False)\n",
    "\n",
    "print(\"DONE\")"
   ]
  },
  {
   "cell_type": "code",
   "execution_count": null,
   "id": "94440737-f52c-4882-aa8f-d9b338d4f3d9",
   "metadata": {},
   "outputs": [],
   "source": []
  }
 ],
 "metadata": {
  "kernelspec": {
   "display_name": "jeremie_env",
   "language": "python",
   "name": "jeremie_env"
  },
  "language_info": {
   "codemirror_mode": {
    "name": "ipython",
    "version": 3
   },
   "file_extension": ".py",
   "mimetype": "text/x-python",
   "name": "python",
   "nbconvert_exporter": "python",
   "pygments_lexer": "ipython3",
   "version": "3.9.0 (default, Nov 15 2020, 14:28:56) \n[GCC 7.3.0]"
  }
 },
 "nbformat": 4,
 "nbformat_minor": 5
}
